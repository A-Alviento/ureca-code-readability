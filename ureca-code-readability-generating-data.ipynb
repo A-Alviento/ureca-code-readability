{
 "cells": [
  {
   "attachments": {},
   "cell_type": "markdown",
   "id": "646eb9d2",
   "metadata": {},
   "source": [
    "#### Average line length and variability"
   ]
  },
  {
   "cell_type": "code",
   "execution_count": null,
   "id": "6d921370",
   "metadata": {},
   "outputs": [],
   "source": [
    "import statistics\n",
    "\n",
    "def analyze_code(file_path):\n",
    "    with open(file_path, 'r') as f:\n",
    "        lines = f.readlines()\n",
    "    line_lengths = [len(line) for line in lines]\n",
    "    avg_line_length = sum(line_lengths) / len(line_lengths)\n",
    "    line_length_variability = statistics.stdev(line_lengths)\n",
    "    return avg_line_length, line_length_variability\n"
   ]
  },
  {
   "attachments": {},
   "cell_type": "markdown",
   "id": "a1e4a483",
   "metadata": {},
   "source": [
    "#### Percentage of comment"
   ]
  },
  {
   "cell_type": "code",
   "execution_count": 175,
   "id": "fc9ea1fd",
   "metadata": {},
   "outputs": [],
   "source": [
    "def comment_percentage(file_path,language):\n",
    "    with open(file_path) as f:\n",
    "        code_snippet = f.read()\n",
    "    comment_count = 0\n",
    "    total_count = 0\n",
    "    in_comment = False\n",
    "    if language in ['python', 'c', 'c++', 'java']:\n",
    "        if language == 'python':\n",
    "            comment_symbol = '#'\n",
    "        elif language == 'c':\n",
    "            comment_symbol = '//'\n",
    "        elif language == 'c++':\n",
    "            comment_symbol = '//'\n",
    "        elif language == 'java':\n",
    "            comment_symbol = '//'\n",
    "        for line in code_snippet.split('\\n'):\n",
    "            total_count += 1\n",
    "            if in_comment:\n",
    "                if '*/' in line:\n",
    "                    in_comment = False\n",
    "                else:\n",
    "                    comment_count += 1\n",
    "                    continue\n",
    "            if comment_symbol in line:\n",
    "                comment_count += 1\n",
    "            elif '/*' in line:\n",
    "                in_comment = True\n",
    "                comment_count += 1\n",
    "        return (comment_count / total_count) * 100\n",
    "    else:\n",
    "        return \"Invalid language\""
   ]
  },
  {
   "attachments": {},
   "cell_type": "markdown",
   "id": "5e1fc34d",
   "metadata": {},
   "source": [
    "#### Indentation variability"
   ]
  },
  {
   "cell_type": "code",
   "execution_count": 181,
   "id": "958bd44f",
   "metadata": {},
   "outputs": [],
   "source": [
    "import statistics\n",
    "\n",
    "def indentation_variability_file_std_dev(file_path):\n",
    "    with open(file_path, 'r') as f:\n",
    "        code = f.read()\n",
    "    lines = code.split(\"\\n\")\n",
    "    indents = [len(line) - len(line.lstrip()) for line in lines if line.strip() != \"\"]\n",
    "    return statistics.stdev(indents)\n",
    "\n"
   ]
  },
  {
   "attachments": {},
   "cell_type": "markdown",
   "id": "5a87a635",
   "metadata": {},
   "source": [
    "#### Percentage of identifier terms in dictionary and percentage of these identifiers present in the english dictionary"
   ]
  },
  {
   "cell_type": "code",
   "execution_count": 186,
   "id": "4d5c74ed",
   "metadata": {},
   "outputs": [],
   "source": [
    "import re\n",
    "import tokenize\n",
    "from io import BytesIO\n",
    "import keyword\n",
    "import spacy\n",
    "nlp = spacy.load(\"en_core_web_sm\")\n",
    "import spellchecker\n",
    "\n",
    "java_keywords = [\"abstract\", \"continue\", \"for\", \"new\", \"switch\", \"assert\", \"default\", \"goto\", \"package\", \"synchronized\", \"boolean\", \"do\", \"if\", \"private\", \"this\", \"break\", \"double\", \"implements\", \"protected\", \"throw\", \"byte\", \"else\", \"import\", \"public\", \"throws\", \"case\", \"enum\", \"instanceof\", \"return\", \"transient\", \"catch\", \"extends\", \"int\", \"short\", \"try\", \"char\", \"final\", \"interface\", \"static\", \"void\", \"class\", \"finally\", \"long\", \"strictfp\", \"volatile\", \"const\", \"float\", \"native\", \"super\", \"while\", \"Object\", \"null\", \"true\", \"false\"]\n",
    "c_keywords = [\"auto\", \"break\", \"case\", \"char\", \"const\", \"continue\", \"default\", \"do\", \"double\", \"else\", \"enum\", \"extern\", \"float\", \"for\", \"goto\", \"if\", \"inline\", \"int\", \"long\", \"register\", \"restrict\", \"return\", \"short\", \"signed\", \"sizeof\", \"static\", \"struct\", \"switch\", \"typedef\", \"union\", \"unsigned\", \"void\", \"volatile\", \"while\", \"_Alignas\", \"_Alignof\", \"_Atomic\", \"_Bool\", \"_Complex\", \"_Generic\", \"_Imaginary\", \"_Noreturn\", \"Static_assert\", \"Thread_local\"]\n",
    "\n",
    "def contains_in_vocab(word):\n",
    "    # Split the line into words based on capital letters\n",
    "    words = re.findall(r\"[A-Z]?[a-z]+|'[^']+'|\\\"[^\\\"]+\\\"\", word)\n",
    "    tokens = []\n",
    "    for word in words:\n",
    "        # Check if word is enclosed in quotes\n",
    "        if not (word.startswith(\"'\") and word.endswith(\"'\") or word.startswith('\"') and word.endswith('\"')):\n",
    "            # Tokenize the word if it's not enclosed in quotes\n",
    "            tokens.extend(tokenize.tokenize(BytesIO(word.encode(\"utf-8\")).readline))\n",
    "    \n",
    "    for token_type, token_string, _, _, _ in tokens:\n",
    "        spell = spellchecker.SpellChecker()\n",
    "        if (spell.correction(token_string) == token_string):\n",
    "            return True\n",
    "    return False\n",
    "\n",
    "def tokenizeLine(line):    \n",
    "    # Split the line into words based on non-alphanumeric characters\n",
    "    words = re.findall(r\"[A-Za-z]+|'[^']+'|\\\"[^\\\"]+\\\"\", line)\n",
    "    tokens = []\n",
    "    for word in words:\n",
    "        if not (word.startswith(\"'\") and word.endswith(\"'\") or word.startswith('\"') and word.endswith('\"')):\n",
    "            tokens.extend(tokenize.tokenize(BytesIO(word.encode(\"utf-8\")).readline))\n",
    "    return tokens\n",
    "\n",
    "def avg_identifiers_per_line(file_path, lang):\n",
    "    with open(file_path, \"r\") as file:\n",
    "        code = file.read()\n",
    "    lines = code.split(\"\\n\")\n",
    "    identifiers = []\n",
    "    identifiers_eng = []\n",
    "\n",
    "    \n",
    "    for line in lines:\n",
    "        count_eng = 0\n",
    "        count = 0\n",
    "        \n",
    "        if lang == \"python\":\n",
    "            # Tokenize the line\n",
    "            tokens = tokenizeLine(line)\n",
    "\n",
    "            # Count the number of identifiers in the line\n",
    "            for token_type, token_string, _, _, _ in tokens:\n",
    "                if token_type == tokenize.NAME and token_string not in keyword.kwlist:\n",
    "                    count += 1\n",
    "                    if (contains_in_vocab(token_string)):\n",
    "                        count_eng += 1\n",
    "\n",
    "\n",
    "            identifiers.append(count)\n",
    "            identifiers_eng.append(count_eng)\n",
    "\n",
    "        elif lang == \"java\":\n",
    "\n",
    "            tokens = tokenizeLine(line)\n",
    "            \n",
    "            for token_type, token_string, _, _, _ in tokens:\n",
    "                if token_type == tokenize.NAME and token_string not in java_keywords:\n",
    "                    count += 1\n",
    "                    if (contains_in_vocab(token_string)):\n",
    "                        count_eng += 1\n",
    "            \n",
    "            identifiers.append(count)\n",
    "            identifiers_eng.append(count_eng)\n",
    "            \n",
    "\n",
    "\n",
    "        elif lang in [\"c\", \"c++\"]:\n",
    "            \n",
    "            tokens = tokenizeLine(line)\n",
    "            \n",
    "            for token_type, token_string, _, _, _ in tokens:\n",
    "                if token_type == tokenize.NAME and token_string not in c_keywords:\n",
    "                    count += 1\n",
    "                    if (contains_in_vocab(token_string)):\n",
    "                        count_eng += 1\n",
    "            \n",
    "            identifiers.append(count)\n",
    "            identifiers_eng.append(count_eng)\n",
    "    \n",
    "    return sum(identifiers)/len(lines), sum(identifiers_eng)/sum(identifiers)*100"
   ]
  },
  {
   "attachments": {},
   "cell_type": "markdown",
   "id": "85fab410",
   "metadata": {},
   "source": [
    "#### Average readability of comments (Gunning Fog)"
   ]
  },
  {
   "cell_type": "code",
   "execution_count": 194,
   "id": "e90a647f",
   "metadata": {},
   "outputs": [],
   "source": [
    "import re\n",
    "\n",
    "def gunning_fog(text):\n",
    "    words = text.split()\n",
    "    sentences = len(re.findall(r'[^.!?]+[.!?]', text))\n",
    "    if sentences == 0:\n",
    "        return -1\n",
    "    complex_words = len([word for word in words if len(word) >= 3 and re.search(r'[^A-Za-z0-9]', word)])\n",
    "    score = 0.4 * (len(words) / sentences + 100 * (complex_words / len(words)))\n",
    "    return score\n",
    "\n",
    "def average_readability(file_path):\n",
    "    with open(file_path, 'r') as f:\n",
    "        text = f.read()\n",
    "        comments = re.findall(r'(?:/\\*(?:[^*]|(?:\\*+[^*/]))*\\*+/)|(?://.*)', text)\n",
    "        if not comments:\n",
    "            return -1\n",
    "        scores = [gunning_fog(comment) for comment in comments]\n",
    "        if None in scores:\n",
    "            return -1\n",
    "        return sum(scores) / len(scores)\n"
   ]
  },
  {
   "attachments": {},
   "cell_type": "markdown",
   "id": "81e4b27d",
   "metadata": {},
   "source": [
    "#### Calculating the average readability score from Buse's readability survey results"
   ]
  },
  {
   "cell_type": "code",
   "execution_count": 195,
   "id": "9d7e5cba",
   "metadata": {},
   "outputs": [
    {
     "name": "stdout",
     "output_type": "stream",
     "text": [
      "1      2.991667\n",
      "2      3.741667\n",
      "3      2.691667\n",
      "4      4.025000\n",
      "5      4.183333\n",
      "         ...   \n",
      "96     3.808333\n",
      "97     2.900000\n",
      "98     3.000000\n",
      "99     2.950000\n",
      "100    2.125000\n",
      "Length: 100, dtype: float64\n"
     ]
    }
   ],
   "source": [
    "import pandas as pd\n",
    "\n",
    "# Name of the CSV file\n",
    "filename = \"/Users/adrian/Desktop/cs-projects/ureca-code-readability/DatasetBW/oracle.csv\"\n",
    "\n",
    "# Reading the CSV file into a DataFrame\n",
    "df = pd.read_csv(filename, header=0, index_col=0)\n",
    "\n",
    "# Get the current column names\n",
    "column_names = df.columns\n",
    "\n",
    "# Create a new dictionary to map old column names to new column names\n",
    "new_column_names = dict(zip(column_names, range(0, len(column_names) + 1)))\n",
    "\n",
    "# Rename the columns\n",
    "df = df.rename(columns=new_column_names)\n",
    "\n",
    "\n",
    "# Calculating the average of each column\n",
    "average = df.mean(numeric_only=True)\n",
    "\n",
    "# Print the averages\n",
    "print(average)\n"
   ]
  },
  {
   "attachments": {},
   "cell_type": "markdown",
   "id": "c3da71ab",
   "metadata": {},
   "source": [
    "#### Writing results to a csv"
   ]
  },
  {
   "cell_type": "code",
   "execution_count": 200,
   "id": "47861e86",
   "metadata": {},
   "outputs": [],
   "source": [
    "import glob\n",
    "\n",
    "\n",
    "def csvFeatureGenerator(directory, language):\n",
    "    data = [[\"Avg line length\", \"Line length variability\", \"Percentage of comments\", \"Indentation Variability\", \"Avg num of identifiers\", \"Percentage of identifers in dictionary\", \"Avg readability of comments\"]]\n",
    "\n",
    "    # get a list of all text files\n",
    "    files = glob.glob(directory)\n",
    "\n",
    "    # sort the list of files by alphabetical order\n",
    "    \n",
    "    files = sorted(files)\n",
    "\n",
    "    # iterate over the sorted list of files\n",
    "    for filename in files:\n",
    "        result = []\n",
    "        \n",
    "        for i in range(5):\n",
    "            if i == 0:\n",
    "                lineLenVar = analyze_code(filename)\n",
    "                result.append(lineLenVar[0])\n",
    "                result.append(lineLenVar[1])\n",
    "            if i == 1:\n",
    "                comPerc = comment_percentage(filename, language)\n",
    "                result.append(comPerc)\n",
    "            if i == 2:\n",
    "                indentVar = indentation_variability_file_std_dev(filename)\n",
    "                result.append(indentVar)\n",
    "            if i == 3:\n",
    "                avgIdentifier = avg_identifiers_per_line(filename, language)\n",
    "                result.append(avgIdentifier[0])\n",
    "                result.append(avgIdentifier[1])\n",
    "            if i == 4:\n",
    "                commentReadability = average_readability(filename)\n",
    "                result.append(commentReadability)\n",
    "        data.append(result)\n",
    "    \n",
    "    return data\n",
    "\n",
    "\n",
    "directory = '/Users/adrian/Desktop/cs-projects/ureca-code-readability/DatasetBW/snippets/*.jsnp'\n",
    "resultList = csvFeatureGenerator(directory, \"java\")\n",
    "\n"
   ]
  },
  {
   "cell_type": "code",
   "execution_count": 201,
   "id": "573fdda8",
   "metadata": {},
   "outputs": [],
   "source": [
    "dataFrame = pd.DataFrame(resultList)\n",
    "dataFrame.to_csv('annotatedDataSet.csv', index=False)\n"
   ]
  }
 ],
 "metadata": {
  "kernelspec": {
   "display_name": "base",
   "language": "python",
   "name": "python3"
  },
  "language_info": {
   "codemirror_mode": {
    "name": "ipython",
    "version": 3
   },
   "file_extension": ".py",
   "mimetype": "text/x-python",
   "name": "python",
   "nbconvert_exporter": "python",
   "pygments_lexer": "ipython3",
   "version": "3.9.7"
  },
  "vscode": {
   "interpreter": {
    "hash": "84f0366c652f3fb2ebfd4c253168c487a11dcf87abb2b5484248808ade3ef4e2"
   }
  }
 },
 "nbformat": 4,
 "nbformat_minor": 5
}
