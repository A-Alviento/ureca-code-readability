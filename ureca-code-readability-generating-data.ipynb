{
 "cells": [
  {
   "attachments": {},
   "cell_type": "markdown",
   "id": "646eb9d2",
   "metadata": {},
   "source": [
    "#### Average line length"
   ]
  },
  {
   "cell_type": "code",
   "execution_count": 160,
   "id": "6d921370",
   "metadata": {},
   "outputs": [
    {
     "name": "stdout",
     "output_type": "stream",
     "text": [
      "Average line length: 19.5\n",
      "Line length variability: 16.58743069745454\n"
     ]
    }
   ],
   "source": [
    "import statistics\n",
    "\n",
    "def analyze_code(file_path):\n",
    "    with open(file_path, 'r') as f:\n",
    "        lines = f.readlines()\n",
    "    line_lengths = [len(line) for line in lines]\n",
    "    avg_line_length = sum(line_lengths) / len(line_lengths)\n",
    "    line_length_variability = statistics.stdev(line_lengths)\n",
    "    print(\"Average line length:\", avg_line_length)\n",
    "    print(\"Line length variability:\", line_length_variability)\n",
    "\n",
    "analyze_code(\"/Users/adrian/Desktop/cs-projects/ureca-code-readability/DatasetBW/snippets/1.jsnp\")\n"
   ]
  },
  {
   "attachments": {},
   "cell_type": "markdown",
   "id": "a1e4a483",
   "metadata": {},
   "source": [
    "#### Percentage of comment"
   ]
  },
  {
   "cell_type": "code",
   "execution_count": 161,
   "id": "fc9ea1fd",
   "metadata": {},
   "outputs": [
    {
     "data": {
      "text/plain": [
       "41.66666666666667"
      ]
     },
     "execution_count": 161,
     "metadata": {},
     "output_type": "execute_result"
    }
   ],
   "source": [
    "def comment_percentage(file_path,language):\n",
    "    with open(file_path) as f:\n",
    "        code_snippet = f.read()\n",
    "    comment_count = 0\n",
    "    total_count = 0\n",
    "    in_comment = False\n",
    "    if language in ['python', 'c', 'c++', 'java']:\n",
    "        if language == 'python':\n",
    "            comment_symbol = '#'\n",
    "        elif language == 'c':\n",
    "            comment_symbol = '//'\n",
    "        elif language == 'c++':\n",
    "            comment_symbol = '//'\n",
    "        elif language == 'java':\n",
    "            comment_symbol = '//'\n",
    "        for line in code_snippet.split('\\n'):\n",
    "            total_count += 1\n",
    "            if in_comment:\n",
    "                if '*/' in line:\n",
    "                    in_comment = False\n",
    "                else:\n",
    "                    comment_count += 1\n",
    "                    continue\n",
    "            if comment_symbol in line:\n",
    "                comment_count += 1\n",
    "            elif '/*' in line:\n",
    "                in_comment = True\n",
    "                comment_count += 1\n",
    "        return (comment_count / total_count) * 100\n",
    "    else:\n",
    "        return \"Invalid language\"\n",
    "\n",
    "comment_percentage(\"/Users/adrian/Desktop/cs-projects/ureca-code-readability/DatasetBW/snippets/7.jsnp\", 'java')"
   ]
  },
  {
   "attachments": {},
   "cell_type": "markdown",
   "id": "85fab410",
   "metadata": {},
   "source": [
    "#### Average readability of comments (Gunning Fog)"
   ]
  },
  {
   "cell_type": "code",
   "execution_count": 163,
   "id": "e90a647f",
   "metadata": {},
   "outputs": [
    {
     "name": "stdout",
     "output_type": "stream",
     "text": [
      "15.03478260869565\n"
     ]
    }
   ],
   "source": [
    "import re\n",
    "\n",
    "def gunning_fog(text):\n",
    "    words = text.split()\n",
    "    sentences = len(re.findall(r'[^.!?]+[.!?]', text))\n",
    "    complex_words = len([word for word in words if len(word) >= 3 and re.search(r'[^A-Za-z0-9]', word)])\n",
    "    score = 0.4 * (len(words) / sentences + 100 * (complex_words / len(words)))\n",
    "    return score\n",
    "\n",
    "def average_readability(file_path):\n",
    "    with open(file_path, 'r') as f:\n",
    "        text = f.read()\n",
    "        comments = re.findall(r'(?:/\\*(?:[^*]|(?:\\*+[^*/]))*\\*+/)|(?://.*)', text)\n",
    "        if not comments:\n",
    "            return -1\n",
    "        scores = [gunning_fog(comment) for comment in comments]\n",
    "        return sum(scores) / len(scores)\n",
    "\n",
    "\n",
    "print(average_readability('/Users/adrian/Desktop/cs-projects/ureca-code-readability/DatasetBW/snippets/7.jsnp'))\n"
   ]
  },
  {
   "attachments": {},
   "cell_type": "markdown",
   "id": "5a87a635",
   "metadata": {},
   "source": [
    "#### Percentage of identifier terms in dictionary and percentage of these identifiers present in the english dictionary"
   ]
  },
  {
   "cell_type": "code",
   "execution_count": 69,
   "id": "4d5c74ed",
   "metadata": {},
   "outputs": [
    {
     "name": "stdout",
     "output_type": "stream",
     "text": [
      "(1.4166666666666667, 100.0, 17, 17)\n"
     ]
    }
   ],
   "source": [
    "import re\n",
    "import tokenize\n",
    "from io import BytesIO\n",
    "import keyword\n",
    "import spacy\n",
    "nlp = spacy.load(\"en_core_web_sm\")\n",
    "import spellchecker\n",
    "\n",
    "java_keywords = [\"abstract\", \"continue\", \"for\", \"new\", \"switch\", \"assert\", \"default\", \"goto\", \"package\", \"synchronized\", \"boolean\", \"do\", \"if\", \"private\", \"this\", \"break\", \"double\", \"implements\", \"protected\", \"throw\", \"byte\", \"else\", \"import\", \"public\", \"throws\", \"case\", \"enum\", \"instanceof\", \"return\", \"transient\", \"catch\", \"extends\", \"int\", \"short\", \"try\", \"char\", \"final\", \"interface\", \"static\", \"void\", \"class\", \"finally\", \"long\", \"strictfp\", \"volatile\", \"const\", \"float\", \"native\", \"super\", \"while\", \"Object\", \"null\", \"true\", \"false\"]\n",
    "c_keywords = [\"auto\", \"break\", \"case\", \"char\", \"const\", \"continue\", \"default\", \"do\", \"double\", \"else\", \"enum\", \"extern\", \"float\", \"for\", \"goto\", \"if\", \"inline\", \"int\", \"long\", \"register\", \"restrict\", \"return\", \"short\", \"signed\", \"sizeof\", \"static\", \"struct\", \"switch\", \"typedef\", \"union\", \"unsigned\", \"void\", \"volatile\", \"while\", \"_Alignas\", \"_Alignof\", \"_Atomic\", \"_Bool\", \"_Complex\", \"_Generic\", \"_Imaginary\", \"_Noreturn\", \"Static_assert\", \"Thread_local\"]\n",
    "\n",
    "def contains_in_vocab(word):\n",
    "    # Split the line into words based on capital letters\n",
    "    words = re.findall(r\"[A-Z]?[a-z]+|'[^']+'|\\\"[^\\\"]+\\\"\", word)\n",
    "    tokens = []\n",
    "    for word in words:\n",
    "        # Check if word is enclosed in quotes\n",
    "        if not (word.startswith(\"'\") and word.endswith(\"'\") or word.startswith('\"') and word.endswith('\"')):\n",
    "            # Tokenize the word if it's not enclosed in quotes\n",
    "            tokens.extend(tokenize.tokenize(BytesIO(word.encode(\"utf-8\")).readline))\n",
    "    \n",
    "    for token_type, token_string, _, _, _ in tokens:\n",
    "        spell = spellchecker.SpellChecker()\n",
    "        if (spell.correction(token_string) == token_string):\n",
    "            return True\n",
    "    return False\n",
    "\n",
    "def tokenizeLine(line):    \n",
    "    # Split the line into words based on non-alphanumeric characters\n",
    "    words = re.findall(r\"[A-Za-z]+|'[^']+'|\\\"[^\\\"]+\\\"\", line)\n",
    "    tokens = []\n",
    "    for word in words:\n",
    "        if not (word.startswith(\"'\") and word.endswith(\"'\") or word.startswith('\"') and word.endswith('\"')):\n",
    "            tokens.extend(tokenize.tokenize(BytesIO(word.encode(\"utf-8\")).readline))\n",
    "    return tokens\n",
    "\n",
    "def avg_identifiers_per_line(file_path, lang):\n",
    "    with open(file_path, \"r\") as file:\n",
    "        code = file.read()\n",
    "    lines = code.split(\"\\n\")\n",
    "    identifiers = []\n",
    "    identifiers_eng = []\n",
    "\n",
    "    \n",
    "    for line in lines:\n",
    "        count_eng = 0\n",
    "        count = 0\n",
    "        \n",
    "        if lang == \"python\":\n",
    "            # Tokenize the line\n",
    "            tokens = tokenizeLine(line)\n",
    "\n",
    "            # Count the number of identifiers in the line\n",
    "            for token_type, token_string, _, _, _ in tokens:\n",
    "                if token_type == tokenize.NAME and token_string not in keyword.kwlist:\n",
    "                    count += 1\n",
    "                    if (contains_in_vocab(token_string)):\n",
    "                        count_eng += 1\n",
    "\n",
    "\n",
    "            identifiers.append(count)\n",
    "            identifiers_eng.append(count_eng)\n",
    "\n",
    "        elif lang == \"java\":\n",
    "\n",
    "            tokens = tokenizeLine(line)\n",
    "            \n",
    "            for token_type, token_string, _, _, _ in tokens:\n",
    "                if token_type == tokenize.NAME and token_string not in java_keywords:\n",
    "                    count += 1\n",
    "                    if (contains_in_vocab(token_string)):\n",
    "                        count_eng += 1\n",
    "            \n",
    "            identifiers.append(count)\n",
    "            identifiers_eng.append(count_eng)\n",
    "            \n",
    "\n",
    "\n",
    "        elif lang in [\"c\", \"c++\"]:\n",
    "            \n",
    "            tokens = tokenizeLine(line)\n",
    "            \n",
    "            for token_type, token_string, _, _, _ in tokens:\n",
    "                if token_type == tokenize.NAME and token_string not in c_keywords:\n",
    "                    count += 1\n",
    "                    if (contains_in_vocab(token_string)):\n",
    "                        count_eng += 1\n",
    "            \n",
    "            identifiers.append(count)\n",
    "            identifiers_eng.append(count_eng)\n",
    "    \n",
    "    return sum(identifiers)/len(lines), sum(identifiers_eng)/sum(identifiers)*100, sum(identifiers), sum(identifiers_eng)\n",
    "\n",
    "\n",
    "result = avg_identifiers_per_line(\"/Users/adrian/Desktop/cs-projects/ureca-code-readability/DatasetBW/snippets/2.jsnp\", \"java\")\n",
    "print(result)"
   ]
  }
 ],
 "metadata": {
  "kernelspec": {
   "display_name": "base",
   "language": "python",
   "name": "python3"
  },
  "language_info": {
   "codemirror_mode": {
    "name": "ipython",
    "version": 3
   },
   "file_extension": ".py",
   "mimetype": "text/x-python",
   "name": "python",
   "nbconvert_exporter": "python",
   "pygments_lexer": "ipython3",
   "version": "3.9.7"
  },
  "vscode": {
   "interpreter": {
    "hash": "84f0366c652f3fb2ebfd4c253168c487a11dcf87abb2b5484248808ade3ef4e2"
   }
  }
 },
 "nbformat": 4,
 "nbformat_minor": 5
}
