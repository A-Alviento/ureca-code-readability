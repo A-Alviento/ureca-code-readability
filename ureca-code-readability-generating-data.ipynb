{
 "cells": [
  {
   "attachments": {},
   "cell_type": "markdown",
   "id": "646eb9d2",
   "metadata": {},
   "source": [
    "#### Average line length"
   ]
  },
  {
   "cell_type": "code",
   "execution_count": 1,
   "id": "6d921370",
   "metadata": {},
   "outputs": [
    {
     "name": "stdout",
     "output_type": "stream",
     "text": [
      "Average line length: 20.4\n",
      "Line length variability: 17.66477977344876\n"
     ]
    }
   ],
   "source": [
    "import statistics\n",
    "\n",
    "def analyze_code(file_path):\n",
    "    with open(file_path, 'r') as f:\n",
    "        lines = f.readlines()\n",
    "    line_lengths = [len(line) for line in lines]\n",
    "    avg_line_length = sum(line_lengths) / len(line_lengths)\n",
    "    line_length_variability = statistics.stdev(line_lengths)\n",
    "    print(\"Average line length:\", avg_line_length)\n",
    "    print(\"Line length variability:\", line_length_variability)\n",
    "\n",
    "analyze_code(\"/Users/adrian/Desktop/cs-projects/ureca-code-readability/DatasetBW/snippets/1.jsnp\")\n"
   ]
  }
 ],
 "metadata": {
  "kernelspec": {
   "display_name": "base",
   "language": "python",
   "name": "python3"
  },
  "language_info": {
   "codemirror_mode": {
    "name": "ipython",
    "version": 3
   },
   "file_extension": ".py",
   "mimetype": "text/x-python",
   "name": "python",
   "nbconvert_exporter": "python",
   "pygments_lexer": "ipython3",
   "version": "3.9.7"
  },
  "vscode": {
   "interpreter": {
    "hash": "84f0366c652f3fb2ebfd4c253168c487a11dcf87abb2b5484248808ade3ef4e2"
   }
  }
 },
 "nbformat": 4,
 "nbformat_minor": 5
}
