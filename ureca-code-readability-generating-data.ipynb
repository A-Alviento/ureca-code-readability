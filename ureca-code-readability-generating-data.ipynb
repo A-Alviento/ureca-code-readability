{
 "cells": [
  {
   "attachments": {},
   "cell_type": "markdown",
   "id": "646eb9d2",
   "metadata": {},
   "source": [
    "#### Average line length"
   ]
  },
  {
   "cell_type": "code",
   "execution_count": 1,
   "id": "6d921370",
   "metadata": {},
   "outputs": [
    {
     "name": "stdout",
     "output_type": "stream",
     "text": [
      "Average line length: 20.4\n",
      "Line length variability: 17.66477977344876\n"
     ]
    }
   ],
   "source": [
    "import statistics\n",
    "\n",
    "def analyze_code(file_path):\n",
    "    with open(file_path, 'r') as f:\n",
    "        lines = f.readlines()\n",
    "    line_lengths = [len(line) for line in lines]\n",
    "    avg_line_length = sum(line_lengths) / len(line_lengths)\n",
    "    line_length_variability = statistics.stdev(line_lengths)\n",
    "    print(\"Average line length:\", avg_line_length)\n",
    "    print(\"Line length variability:\", line_length_variability)\n",
    "\n",
    "analyze_code(\"/Users/adrian/Desktop/cs-projects/ureca-code-readability/DatasetBW/snippets/1.jsnp\")\n"
   ]
  },
  {
   "attachments": {},
   "cell_type": "markdown",
   "id": "a1e4a483",
   "metadata": {},
   "source": [
    "#### Percentage of comment"
   ]
  },
  {
   "cell_type": "code",
   "execution_count": 49,
   "id": "fc9ea1fd",
   "metadata": {},
   "outputs": [
    {
     "data": {
      "text/plain": [
       "41.66666666666667"
      ]
     },
     "execution_count": 49,
     "metadata": {},
     "output_type": "execute_result"
    }
   ],
   "source": [
    "def comment_percentage(file_path,language):\n",
    "    with open(file_path) as f:\n",
    "        code_snippet = f.read()\n",
    "    comment_count = 0\n",
    "    total_count = 0\n",
    "    in_comment = False\n",
    "    if language in ['python', 'c', 'c++', 'java']:\n",
    "        if language == 'python':\n",
    "            comment_symbol = '#'\n",
    "        elif language == 'c':\n",
    "            comment_symbol = '//'\n",
    "        elif language == 'c++':\n",
    "            comment_symbol = '//'\n",
    "        elif language == 'java':\n",
    "            comment_symbol = '//'\n",
    "        for line in code_snippet.split('\\n'):\n",
    "            total_count += 1\n",
    "            if in_comment:\n",
    "                if '*/' in line:\n",
    "                    in_comment = False\n",
    "                else:\n",
    "                    comment_count += 1\n",
    "                    continue\n",
    "            if comment_symbol in line:\n",
    "                comment_count += 1\n",
    "            elif '/*' in line:\n",
    "                in_comment = True\n",
    "                comment_count += 1\n",
    "        return (comment_count / total_count) * 100\n",
    "    else:\n",
    "        return \"Invalid language\"\n",
    "\n",
    "comment_percentage(\"/Users/adrian/Desktop/cs-projects/ureca-code-readability/DatasetBW/snippets/7.jsnp\", 'java')"
   ]
  },
  {
   "attachments": {},
   "cell_type": "markdown",
   "id": "db1d5bd5",
   "metadata": {},
   "source": [
    "#### Average number of identifiers per line"
   ]
  },
  {
   "cell_type": "code",
   "execution_count": 58,
   "id": "3b32111d",
   "metadata": {},
   "outputs": [
    {
     "name": "stdout",
     "output_type": "stream",
     "text": [
      "[]\n",
      "['Object', 'ret', 'body', 'eval', 'callstack', 'interpreter']\n",
      "[]\n",
      "['boolean', 'breakout', 'false']\n",
      "['if', 'ret', 'instanceof', 'ReturnControl']\n",
      "[]\n",
      "['switch', 'ReturnControl', 'ret', 'kind']\n",
      "[]\n",
      "['case', 'RETURN']\n",
      "['return', 'ret']\n",
      "[]\n"
     ]
    },
    {
     "data": {
      "text/plain": [
       "14"
      ]
     },
     "execution_count": 58,
     "metadata": {},
     "output_type": "execute_result"
    }
   ],
   "source": [
    "import tokenize\n",
    "from io import BytesIO\n",
    "import keyword\n",
    "\n",
    "def avg_identifiers_per_line(file_path, lang):\n",
    "    with open(file_path, \"r\") as file:\n",
    "        code = file.read()\n",
    "    lines = code.split(\"\\n\")\n",
    "    identifiers = []\n",
    "    for line in lines:\n",
    "        if lang == \"python\":\n",
    "            # Tokenize the line\n",
    "            tokens = tokenize.tokenize(BytesIO(line.encode(\"utf-8\")).readline)\n",
    "            # Count the number of identifiers in the line\n",
    "            count = sum(1 for token_type, token_string, _, _, _ in tokens if token_type == tokenize.NAME and token_string not in keyword.kwlist)\n",
    "            identifiers.append(count)\n",
    "        elif lang == \"java\":\n",
    "            # Use regular expression to match any sequence of letters and numbers,\n",
    "            # preceded by a letter, underscore, or dollar sign\n",
    "            matches = re.findall(r\"[a-zA-Z_$][a-zA-Z0-9_$]*\", line)\n",
    "            print(matches)\n",
    "            java_keywords = [\"abstract\", \"continue\", \"for\", \"new\", \"switch\", \"assert\", \"default\", \"goto\", \"package\", \"synchronized\", \"boolean\", \"do\", \"if\", \"private\", \"this\", \"break\", \"double\", \"implements\", \"protected\", \"throw\", \"byte\", \"else\", \"import\", \"public\", \"throws\", \"case\", \"enum\", \"instanceof\", \"return\", \"transient\", \"catch\", \"extends\", \"int\", \"short\", \"try\", \"char\", \"final\", \"interface\", \"static\", \"void\", \"class\", \"finally\", \"long\", \"strictfp\", \"volatile\", \"const\", \"float\", \"native\", \"super\", \"while\", \"Object\", \"null\", \"true\", \"false\"]\n",
    "            count = len([x for x in matches if x not in java_keywords])\n",
    "            identifiers.append(count)\n",
    "        elif lang in [\"c\", \"c++\"]:\n",
    "            c_keywords = [\"auto\", \"break\", \"case\", \"char\", \"const\", \"continue\", \"default\", \"do\", \"double\", \"else\", \"enum\", \"extern\", \"float\", \"for\", \"goto\", \"if\", \"inline\", \"int\", \"long\", \"register\", \"restrict\", \"return\", \"short\", \"signed\", \"sizeof\", \"static\", \"struct\", \"switch\", \"typedef\", \"union\", \"unsigned\", \"void\", \"volatile\", \"while\", \"_Alignas\", \"_Alignof\", \"_Atomic\", \"_Bool\", \"_Complex\", \"_Generic\", \"_Imaginary\", \"_Noreturn\", \"Static_assert\", \"Thread_local\"]\n",
    "            matches = re.findall(r\"[a-zA-Z][a-zA-Z0-9]*\", line)\n",
    "            count = len([x for x in matches if x not in c_keywords])\n",
    "            identifiers.append(count)   \n",
    "    return sum(identifiers)\n",
    "\n",
    "\n",
    "avg_identifiers_per_line(\"/Users/adrian/Desktop/cs-projects/ureca-code-readability/DatasetBW/snippets/1.jsnp\", \"java\")"
   ]
  }
 ],
 "metadata": {
  "kernelspec": {
   "display_name": "base",
   "language": "python",
   "name": "python3"
  },
  "language_info": {
   "codemirror_mode": {
    "name": "ipython",
    "version": 3
   },
   "file_extension": ".py",
   "mimetype": "text/x-python",
   "name": "python",
   "nbconvert_exporter": "python",
   "pygments_lexer": "ipython3",
   "version": "3.9.7"
  },
  "vscode": {
   "interpreter": {
    "hash": "84f0366c652f3fb2ebfd4c253168c487a11dcf87abb2b5484248808ade3ef4e2"
   }
  }
 },
 "nbformat": 4,
 "nbformat_minor": 5
}
